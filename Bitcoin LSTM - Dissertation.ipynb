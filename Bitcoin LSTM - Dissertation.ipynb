{
 "cells": [
  {
   "cell_type": "code",
   "execution_count": 2,
   "metadata": {
    "id": "vkXalOznVCQN"
   },
   "outputs": [],
   "source": [
    "\"\"\"\n",
    "Description: This code uses an Artificial RNN (LSTM: Long Short Term Memory Architecture) to predict the\n",
    "closing cryptocurrency price.\n",
    "We use RNN as we are processing a sequence of data, and not standalone data points.\n",
    "\"\"\"\n",
    "import math\n",
    "import numpy as np\n",
    "import pandas as pd\n",
    "from sklearn.preprocessing import MinMaxScaler \n",
    "from keras.models import Sequential\n",
    "from keras.layers import Dense, LSTM\n",
    "import matplotlib.pyplot as plt\n",
    "import yfinance as yf\n",
    "import sklearn\n",
    "import keras\n",
    "import tensorflow\n",
    "plt.style.use(\"fivethirtyeight\")"
   ]
  },
  {
   "cell_type": "code",
   "execution_count": 3,
   "metadata": {},
   "outputs": [
    {
     "data": {
      "text/plain": [
       "'2.13.0'"
      ]
     },
     "execution_count": 3,
     "metadata": {},
     "output_type": "execute_result"
    }
   ],
   "source": [
    "tensorflow.__version__"
   ]
  },
  {
   "cell_type": "code",
   "execution_count": 4,
   "metadata": {
    "colab": {
     "base_uri": "https://localhost:8080/",
     "height": 423
    },
    "id": "KYFTG_1TVVPF",
    "outputId": "c8f4d4c0-d114-4617-b5d7-097775cf8467",
    "scrolled": true
   },
   "outputs": [
    {
     "data": {
      "text/html": [
       "<div>\n",
       "<style scoped>\n",
       "    .dataframe tbody tr th:only-of-type {\n",
       "        vertical-align: middle;\n",
       "    }\n",
       "\n",
       "    .dataframe tbody tr th {\n",
       "        vertical-align: top;\n",
       "    }\n",
       "\n",
       "    .dataframe thead th {\n",
       "        text-align: right;\n",
       "    }\n",
       "</style>\n",
       "<table border=\"1\" class=\"dataframe\">\n",
       "  <thead>\n",
       "    <tr style=\"text-align: right;\">\n",
       "      <th></th>\n",
       "      <th>Date</th>\n",
       "      <th>Open</th>\n",
       "      <th>High</th>\n",
       "      <th>Low</th>\n",
       "      <th>Close</th>\n",
       "      <th>Adj Close</th>\n",
       "      <th>Volume</th>\n",
       "      <th>Cryptocurrency</th>\n",
       "    </tr>\n",
       "  </thead>\n",
       "  <tbody>\n",
       "    <tr>\n",
       "      <th>0</th>\n",
       "      <td>2019-08-15</td>\n",
       "      <td>10038.421875</td>\n",
       "      <td>10437.411133</td>\n",
       "      <td>9675.316406</td>\n",
       "      <td>10311.545898</td>\n",
       "      <td>10311.545898</td>\n",
       "      <td>22899115082</td>\n",
       "      <td>Bitcoin</td>\n",
       "    </tr>\n",
       "    <tr>\n",
       "      <th>1</th>\n",
       "      <td>2019-08-16</td>\n",
       "      <td>10319.419922</td>\n",
       "      <td>10524.349609</td>\n",
       "      <td>9855.478516</td>\n",
       "      <td>10374.338867</td>\n",
       "      <td>10374.338867</td>\n",
       "      <td>20228207096</td>\n",
       "      <td>Bitcoin</td>\n",
       "    </tr>\n",
       "    <tr>\n",
       "      <th>2</th>\n",
       "      <td>2019-08-17</td>\n",
       "      <td>10358.722656</td>\n",
       "      <td>10452.625000</td>\n",
       "      <td>10086.698242</td>\n",
       "      <td>10231.744141</td>\n",
       "      <td>10231.744141</td>\n",
       "      <td>13778035685</td>\n",
       "      <td>Bitcoin</td>\n",
       "    </tr>\n",
       "    <tr>\n",
       "      <th>3</th>\n",
       "      <td>2019-08-18</td>\n",
       "      <td>10233.005859</td>\n",
       "      <td>10487.070312</td>\n",
       "      <td>10119.094727</td>\n",
       "      <td>10345.810547</td>\n",
       "      <td>10345.810547</td>\n",
       "      <td>12999813869</td>\n",
       "      <td>Bitcoin</td>\n",
       "    </tr>\n",
       "    <tr>\n",
       "      <th>4</th>\n",
       "      <td>2019-08-19</td>\n",
       "      <td>10350.283203</td>\n",
       "      <td>10916.053711</td>\n",
       "      <td>10313.204102</td>\n",
       "      <td>10916.053711</td>\n",
       "      <td>10916.053711</td>\n",
       "      <td>16038264603</td>\n",
       "      <td>Bitcoin</td>\n",
       "    </tr>\n",
       "    <tr>\n",
       "      <th>...</th>\n",
       "      <td>...</td>\n",
       "      <td>...</td>\n",
       "      <td>...</td>\n",
       "      <td>...</td>\n",
       "      <td>...</td>\n",
       "      <td>...</td>\n",
       "      <td>...</td>\n",
       "      <td>...</td>\n",
       "    </tr>\n",
       "    <tr>\n",
       "      <th>1822</th>\n",
       "      <td>2024-08-10</td>\n",
       "      <td>60881.230469</td>\n",
       "      <td>61464.511719</td>\n",
       "      <td>60287.566406</td>\n",
       "      <td>60945.812500</td>\n",
       "      <td>60945.812500</td>\n",
       "      <td>15745822278</td>\n",
       "      <td>Bitcoin</td>\n",
       "    </tr>\n",
       "    <tr>\n",
       "      <th>1823</th>\n",
       "      <td>2024-08-11</td>\n",
       "      <td>60944.890625</td>\n",
       "      <td>61778.660156</td>\n",
       "      <td>58348.824219</td>\n",
       "      <td>58719.484375</td>\n",
       "      <td>58719.484375</td>\n",
       "      <td>22759754812</td>\n",
       "      <td>Bitcoin</td>\n",
       "    </tr>\n",
       "    <tr>\n",
       "      <th>1824</th>\n",
       "      <td>2024-08-12</td>\n",
       "      <td>58719.394531</td>\n",
       "      <td>60680.332031</td>\n",
       "      <td>57688.898438</td>\n",
       "      <td>59354.515625</td>\n",
       "      <td>59354.515625</td>\n",
       "      <td>37078637820</td>\n",
       "      <td>Bitcoin</td>\n",
       "    </tr>\n",
       "    <tr>\n",
       "      <th>1825</th>\n",
       "      <td>2024-08-13</td>\n",
       "      <td>59356.207031</td>\n",
       "      <td>61572.398438</td>\n",
       "      <td>58506.253906</td>\n",
       "      <td>60609.566406</td>\n",
       "      <td>60609.566406</td>\n",
       "      <td>30327698167</td>\n",
       "      <td>Bitcoin</td>\n",
       "    </tr>\n",
       "    <tr>\n",
       "      <th>1826</th>\n",
       "      <td>2024-08-14</td>\n",
       "      <td>60611.050781</td>\n",
       "      <td>61687.757812</td>\n",
       "      <td>58472.875000</td>\n",
       "      <td>58737.269531</td>\n",
       "      <td>58737.269531</td>\n",
       "      <td>29961696180</td>\n",
       "      <td>Bitcoin</td>\n",
       "    </tr>\n",
       "  </tbody>\n",
       "</table>\n",
       "<p>1827 rows × 8 columns</p>\n",
       "</div>"
      ],
      "text/plain": [
       "            Date          Open          High           Low         Close  \\\n",
       "0     2019-08-15  10038.421875  10437.411133   9675.316406  10311.545898   \n",
       "1     2019-08-16  10319.419922  10524.349609   9855.478516  10374.338867   \n",
       "2     2019-08-17  10358.722656  10452.625000  10086.698242  10231.744141   \n",
       "3     2019-08-18  10233.005859  10487.070312  10119.094727  10345.810547   \n",
       "4     2019-08-19  10350.283203  10916.053711  10313.204102  10916.053711   \n",
       "...          ...           ...           ...           ...           ...   \n",
       "1822  2024-08-10  60881.230469  61464.511719  60287.566406  60945.812500   \n",
       "1823  2024-08-11  60944.890625  61778.660156  58348.824219  58719.484375   \n",
       "1824  2024-08-12  58719.394531  60680.332031  57688.898438  59354.515625   \n",
       "1825  2024-08-13  59356.207031  61572.398438  58506.253906  60609.566406   \n",
       "1826  2024-08-14  60611.050781  61687.757812  58472.875000  58737.269531   \n",
       "\n",
       "         Adj Close       Volume Cryptocurrency  \n",
       "0     10311.545898  22899115082        Bitcoin  \n",
       "1     10374.338867  20228207096        Bitcoin  \n",
       "2     10231.744141  13778035685        Bitcoin  \n",
       "3     10345.810547  12999813869        Bitcoin  \n",
       "4     10916.053711  16038264603        Bitcoin  \n",
       "...            ...          ...            ...  \n",
       "1822  60945.812500  15745822278        Bitcoin  \n",
       "1823  58719.484375  22759754812        Bitcoin  \n",
       "1824  59354.515625  37078637820        Bitcoin  \n",
       "1825  60609.566406  30327698167        Bitcoin  \n",
       "1826  58737.269531  29961696180        Bitcoin  \n",
       "\n",
       "[1827 rows x 8 columns]"
      ]
     },
     "execution_count": 4,
     "metadata": {},
     "output_type": "execute_result"
    }
   ],
   "source": [
    "df = pd.read_csv(\"cryptocurrencies_combined_daily.csv\")\n",
    "df = df[df['Cryptocurrency'] == \"Bitcoin\"]\n",
    "df"
   ]
  },
  {
   "cell_type": "code",
   "execution_count": 5,
   "metadata": {},
   "outputs": [],
   "source": [
    "df.to_csv('Bitcoin_data.csv',index=False)"
   ]
  },
  {
   "cell_type": "code",
   "execution_count": 6,
   "metadata": {
    "colab": {
     "base_uri": "https://localhost:8080/"
    },
    "id": "ZBlYkoXPWJ3i",
    "outputId": "9dc41bdf-44bb-4d35-c69c-81546c64bb76"
   },
   "outputs": [
    {
     "data": {
      "text/plain": [
       "array([[0.07841059],\n",
       "       [0.07933249],\n",
       "       [0.07723898],\n",
       "       ...,\n",
       "       [0.79843727],\n",
       "       [0.81686335],\n",
       "       [0.78937514]])"
      ]
     },
     "execution_count": 6,
     "metadata": {},
     "output_type": "execute_result"
    }
   ],
   "source": [
    "# Create a new dataframe with only the \"Close\" column.\n",
    "data = df.filter([\"Close\"])\n",
    "dataset = data.values\n",
    "\n",
    "training_data_len = int(math.ceil(0.75 * len(dataset))) # Calculates the number of training examples, which is 75% of the total data points. The remaining 25% is reserved for testing/validation.\n",
    "\n",
    "# Data preprocessing\n",
    "scaler = MinMaxScaler(feature_range=(0, 1)) # Scales the closing prices to a range between 0 and 1. This normalization ensures that the model performs better and converges faster during training.\n",
    "scaled_data = scaler.fit_transform(dataset)\n",
    "\n",
    "scaled_data"
   ]
  },
  {
   "cell_type": "code",
   "execution_count": 7,
   "metadata": {
    "colab": {
     "base_uri": "https://localhost:8080/"
    },
    "id": "QKhqHfIxVrAZ",
    "outputId": "eefa28e7-2cc1-4e01-fb60-de74366a06bf"
   },
   "outputs": [
    {
     "name": "stdout",
     "output_type": "stream",
     "text": [
      "[0.07841059 0.07933249 0.07723898 0.07891365 0.0872857  0.08504205\n",
      " 0.0758634  0.07576071 0.07982617 0.07618509 0.07587026 0.07928083\n",
      " 0.07656004 0.07023116 0.06664559 0.06793718 0.06841419 0.07028325\n",
      " 0.0789276  0.08299115 0.08256469 0.08228633 0.07902364 0.08143071\n",
      " 0.08031523 0.07875456 0.07553931 0.07645539 0.07985791 0.07913\n",
      " 0.07909332 0.07894158 0.07790038 0.07737887 0.0767472  0.077748\n",
      " 0.07650339 0.07412609 0.07487008 0.06986267 0.05358439 0.05162333\n",
      " 0.04622015 0.048171   0.04808393 0.04600312 0.04878796 0.04951335\n",
      " 0.05024398 0.04829061 0.04749703 0.04669778 0.04429963 0.04807964\n",
      " 0.04783241 0.05321991 0.05308386 0.04919741 0.04941468 0.04918638\n",
      " 0.0499745  0.04748865 0.04517129 0.04599909 0.04408016 0.04430557\n",
      " 0.04773397 0.04805171 0.04562166 0.03734815 0.03703715 0.05417362\n",
      " 0.06275164 0.06725509 0.06291572 0.06543418 0.06217545 0.06208528\n",
      " 0.06298848 0.06392242 0.06261043 0.06521285 0.0641839  0.06445334\n",
      " 0.06308328 0.05629041 0.05641816 0.05997028 0.05559902 0.0564487 ]\n",
      "0.05634006489444621\n"
     ]
    }
   ],
   "source": [
    "\"\"\"\n",
    "Training the model.x_train: Contains sequences of 90 past closing prices (a window of 90 days).\n",
    "y_train: Contains the next closing price corresponding to each sequence in x_train.\n",
    "The for-loop constructs this sequential dataset by sliding a 90-day window over the training data.\n",
    "\"\"\"\n",
    "\n",
    "train_data = scaled_data[:training_data_len, :]\n",
    "# Split the data into x_train and y_train dataset.\n",
    "x_train, y_train = [], []\n",
    "d = 90\n",
    "# Append the past 90 day values.\n",
    "for i in range(d, len(train_data)):\n",
    "    x_train.append(train_data[i - d:i, 0])\n",
    "    y_train.append(train_data[i, 0])\n",
    "\"\"\"\n",
    "x_train array contains the past 90 days value of the closing price.\n",
    "y_train contains the 91st value that we want our model to be able to predict based on those\n",
    "past 90 day closing prices.\n",
    "\"\"\"\n",
    "print(x_train[0])\n",
    "print(y_train[0])"
   ]
  },
  {
   "cell_type": "code",
   "execution_count": 8,
   "metadata": {
    "id": "x2S7QrSHYhnn"
   },
   "outputs": [],
   "source": [
    "# Convert the x_train and y_train dataset to NumPy arrays to prepare for feeding into the LSTM model.\n",
    "x_train, y_train = np.array(x_train), np.array(y_train)\n",
    "\n",
    "# Reshape the x_train dataset.\n",
    "\"\"\"\n",
    "LSTM Network expects the data to be 3-D: Number of samples, timestamps, features.LSTM models expect the input data to be 3-dimensional: (number of samples, time steps, features). In this case:\n",
    "Number of samples = the number of 90-day sequences.\n",
    "Time steps = 90 (the number of days in each sequence).\n",
    "Features = 1 (the closing price is the only feature).\n",
    "\"\"\"\n",
    "x_train = np.reshape(x_train, (x_train.shape[0], x_train.shape[1], 1))"
   ]
  },
  {
   "cell_type": "code",
   "execution_count": 9,
   "metadata": {
    "colab": {
     "base_uri": "https://localhost:8080/"
    },
    "id": "Uwg55t8rYnE9",
    "outputId": "848747ad-eaea-4505-a2ef-dcc7c034c8df"
   },
   "outputs": [],
   "source": [
    "\"\"\"LSTM Layers:\n",
    "Multiple LSTM layers are used with decreasing numbers of neurons (125, 100, 70, 50, and 30). The first four layers have return_sequences=True, which means each LSTM layer outputs the entire sequence for the next layer to process.\n",
    "The final LSTM layer outputs only the last prediction (return_sequences=False).\n",
    "Dense Layers:\n",
    "Two fully connected (dense) layers are added after the LSTM layers: one with 25 neurons and the output layer with 1 neuron (the predicted price).\"\"\"\n",
    "\n",
    "\n",
    "model = Sequential()\n",
    "\n",
    "\n",
    "model.add(LSTM(125, return_sequences=True, input_shape=(x_train.shape[1], 1)))\n",
    "\n",
    "model.add(LSTM(100, return_sequences=True))\n",
    "model.add(LSTM(70, return_sequences=True))\n",
    "model.add(LSTM(50, return_sequences=True))\n",
    "model.add(LSTM(30, return_sequences=False))\n",
    "\n",
    "model.add(Dense(25))\n",
    "model.add(Dense(1))"
   ]
  },
  {
   "cell_type": "code",
   "execution_count": 10,
   "metadata": {
    "colab": {
     "base_uri": "https://localhost:8080/"
    },
    "id": "aQz-NrGUYsew",
    "outputId": "de39429a-bcba-4238-e380-3b5d72170f50"
   },
   "outputs": [
    {
     "name": "stdout",
     "output_type": "stream",
     "text": [
      "Epoch 1/5\n",
      "257/257 [==============================] - 27s 81ms/step - loss: 0.0614\n",
      "Epoch 2/5\n",
      "257/257 [==============================] - 21s 81ms/step - loss: 0.0403\n",
      "Epoch 3/5\n",
      "257/257 [==============================] - 21s 81ms/step - loss: 0.0326\n",
      "Epoch 4/5\n",
      "257/257 [==============================] - 21s 82ms/step - loss: 0.0277\n",
      "Epoch 5/5\n",
      "257/257 [==============================] - 21s 82ms/step - loss: 0.0230\n"
     ]
    },
    {
     "data": {
      "text/plain": [
       "<keras.src.callbacks.History at 0x213483ef0d0>"
      ]
     },
     "execution_count": 10,
     "metadata": {},
     "output_type": "execute_result"
    }
   ],
   "source": [
    "# Compile the model.\n",
    "model.compile(optimizer=\"adam\", loss=\"mean_absolute_error\")\n",
    "# Train the model.\n",
    "\"\"\"\n",
    "No. of forward and backward passes for backpropagation algorithm = 1.\n",
    "Batch size = 1.\n",
    "optimizer=\"adam\": Uses the Adam optimizer for efficient gradient-based optimization.\n",
    "loss=\"mean_absolute_error\": The model is trained to minimize the Mean Absolute Error (MAE), which measures the average magnitude of errors in predictions.\n",
    "batch_size=5: The model updates weights after processing every 5 data points.\n",
    "epochs=5: The model passes over the entire training dataset 5 times.\n",
    "\"\"\"\n",
    "model.fit(x_train, y_train, batch_size=5, epochs=5)"
   ]
  },
  {
   "cell_type": "code",
   "execution_count": 11,
   "metadata": {
    "id": "f4D5tJHlZC7w"
   },
   "outputs": [],
   "source": [
    "\"\"\"test_data: Contains the scaled closing prices from the last 90 days of training data to the end of the dataset.\n",
    "x_test: Created similarly to x_train, but using the test data, each sequence contains 90 previous closing prices.\n",
    "y_test: Contains the actual closing prices for validation.\"\"\"\n",
    "\n",
    "# Create the testing dataset.\n",
    "test_data = scaled_data[training_data_len - 90:, :]\n",
    "# Create the datasets x_test and y_test.\n",
    "x_test = []\n",
    "y_test = dataset[training_data_len:, :]\n",
    "for i in range(90, len(test_data)):\n",
    "    x_test.append(test_data[i - 90:i, 0])"
   ]
  },
  {
   "cell_type": "code",
   "execution_count": 12,
   "metadata": {
    "colab": {
     "base_uri": "https://localhost:8080/"
    },
    "id": "O33chusGZHGd",
    "outputId": "03f92030-b10f-4372-cf90-a6ff0d932762"
   },
   "outputs": [
    {
     "data": {
      "text/plain": [
       "(456, 90, 1)"
      ]
     },
     "execution_count": 12,
     "metadata": {},
     "output_type": "execute_result"
    }
   ],
   "source": [
    "# Convert the data to a NumPy array.\n",
    "x_test = np.array(x_test)\n",
    "# Reshape the data.\n",
    "x_test = np.reshape(x_test, (x_test.shape[0], x_test.shape[1], 1))\n",
    "x_test.shape"
   ]
  },
  {
   "cell_type": "code",
   "execution_count": 13,
   "metadata": {
    "colab": {
     "base_uri": "https://localhost:8080/"
    },
    "id": "C3pcbiDAZKhH",
    "outputId": "40d21da7-26b0-4c61-ed80-50979f106e46"
   },
   "outputs": [
    {
     "name": "stdout",
     "output_type": "stream",
     "text": [
      "15/15 [==============================] - 2s 40ms/step\n"
     ]
    }
   ],
   "source": [
    "\"\"\"model.predict(x_test): Generates the predicted closing prices based on the test dataset.\n",
    "scaler.inverse_transform(predictions): Reverses the scaling to convert predictions back to the original price scale for comparison with actual prices.\"\"\"\n",
    "# Get the model's predicted price values.\n",
    "predictions = model.predict(x_test)\n",
    "# Unscale the values to compare the predictions.\n",
    "predictions = scaler.inverse_transform(predictions)"
   ]
  },
  {
   "cell_type": "code",
   "execution_count": 14,
   "metadata": {},
   "outputs": [
    {
     "data": {
      "text/plain": [
       "1163.614077919408"
      ]
     },
     "execution_count": 14,
     "metadata": {},
     "output_type": "execute_result"
    }
   ],
   "source": [
    "# Calculates the Mean Absolute Error (MAE) by averaging the absolute difference between the predicted and actual closing prices.\n",
    "mae = np.mean(np.abs(predictions - y_test))\n",
    "mae"
   ]
  },
  {
   "cell_type": "code",
   "execution_count": 15,
   "metadata": {
    "colab": {
     "base_uri": "https://localhost:8080/"
    },
    "id": "ui1GHxYuZPYD",
    "outputId": "a81db50d-d100-4d40-9a91-d9b5df1c5f19"
   },
   "outputs": [
    {
     "data": {
      "text/plain": [
       "2.551773132887531"
      ]
     },
     "execution_count": 15,
     "metadata": {},
     "output_type": "execute_result"
    }
   ],
   "source": [
    "# Evaluation of the model using RMSE Error as percentage.\n",
    "mae_percent = np.mean(np.abs(predictions - y_test))*100/np.mean(y_test)\n",
    "mae_percent"
   ]
  },
  {
   "cell_type": "code",
   "execution_count": 16,
   "metadata": {},
   "outputs": [],
   "source": [
    "import os\n",
    "\n",
    "if not os.path.exists('static/images/'):\n",
    "    os.makedirs('static/images/')"
   ]
  },
  {
   "cell_type": "code",
   "execution_count": 17,
   "metadata": {
    "colab": {
     "base_uri": "https://localhost:8080/",
     "height": 655
    },
    "id": "WI6YNl03ZVGn",
    "outputId": "36f4f7a7-9ac1-4c2b-ccf1-928b2df53b79"
   },
   "outputs": [
    {
     "name": "stderr",
     "output_type": "stream",
     "text": [
      "C:\\Users\\uttka\\AppData\\Local\\Temp\\ipykernel_26156\\2574754052.py:4: SettingWithCopyWarning: \n",
      "A value is trying to be set on a copy of a slice from a DataFrame.\n",
      "Try using .loc[row_indexer,col_indexer] = value instead\n",
      "\n",
      "See the caveats in the documentation: https://pandas.pydata.org/pandas-docs/stable/user_guide/indexing.html#returning-a-view-versus-a-copy\n",
      "  valid[\"Predictions\"] = predictions\n"
     ]
    },
    {
     "data": {
      "image/png": "[encoded data removed]",
      "text/plain": [
       "<Figure size 1600x800 with 1 Axes>"
      ]
     },
     "metadata": {},
     "output_type": "display_data"
    }
   ],
   "source": [
    "\"\"\"Plot the data.train: Contains the training data.\n",
    "valid: Contains the validation data and the model’s predictions.\n",
    "Plot: A graph is generated to compare the actual and predicted closing prices.\"\"\"\n",
    "train = data[:training_data_len]\n",
    "valid = data[training_data_len:]\n",
    "valid[\"Predictions\"] = predictions\n",
    "\n",
    "\n",
    "plt.figure(figsize=(16, 8))\n",
    "plt.title(\"LSTM Model Predictions v/s Actual Closing Prices\")\n",
    "plt.xlabel(\"Date\", fontsize=18)\n",
    "plt.ylabel(\"Closing price in USD\", fontsize=18)\n",
    "plt.plot(train[\"Close\"])\n",
    "plt.plot(valid[[\"Close\", \"Predictions\"]])\n",
    "plt.legend([\"Training dataset\", \"Validation dataset\", \"Predictions\"], loc=\"lower right\")\n",
    "plt.show()\n",
    "plt.savefig('Bitcoin.png')\n",
    "plt.close()"
   ]
  },
  {
   "cell_type": "code",
   "execution_count": 18,
   "metadata": {
    "colab": {
     "base_uri": "https://localhost:8080/",
     "height": 423
    },
    "id": "h1ULF4PpZgWw",
    "outputId": "94444c7c-e68c-4383-b48b-3f6bf3688cf2"
   },
   "outputs": [
    {
     "data": {
      "text/html": [
       "<div>\n",
       "<style scoped>\n",
       "    .dataframe tbody tr th:only-of-type {\n",
       "        vertical-align: middle;\n",
       "    }\n",
       "\n",
       "    .dataframe tbody tr th {\n",
       "        vertical-align: top;\n",
       "    }\n",
       "\n",
       "    .dataframe thead th {\n",
       "        text-align: right;\n",
       "    }\n",
       "</style>\n",
       "<table border=\"1\" class=\"dataframe\">\n",
       "  <thead>\n",
       "    <tr style=\"text-align: right;\">\n",
       "      <th></th>\n",
       "      <th>Close</th>\n",
       "      <th>Predictions</th>\n",
       "    </tr>\n",
       "  </thead>\n",
       "  <tbody>\n",
       "    <tr>\n",
       "      <th>1371</th>\n",
       "      <td>27398.802734</td>\n",
       "      <td>26757.044922</td>\n",
       "    </tr>\n",
       "    <tr>\n",
       "      <th>1372</th>\n",
       "      <td>26832.208984</td>\n",
       "      <td>26929.546875</td>\n",
       "    </tr>\n",
       "    <tr>\n",
       "      <th>1373</th>\n",
       "      <td>26890.128906</td>\n",
       "      <td>27012.541016</td>\n",
       "    </tr>\n",
       "    <tr>\n",
       "      <th>1374</th>\n",
       "      <td>27129.585938</td>\n",
       "      <td>26965.910156</td>\n",
       "    </tr>\n",
       "    <tr>\n",
       "      <th>1375</th>\n",
       "      <td>26753.826172</td>\n",
       "      <td>26899.437500</td>\n",
       "    </tr>\n",
       "    <tr>\n",
       "      <th>...</th>\n",
       "      <td>...</td>\n",
       "      <td>...</td>\n",
       "    </tr>\n",
       "    <tr>\n",
       "      <th>1822</th>\n",
       "      <td>60945.812500</td>\n",
       "      <td>61188.890625</td>\n",
       "    </tr>\n",
       "    <tr>\n",
       "      <th>1823</th>\n",
       "      <td>58719.484375</td>\n",
       "      <td>61071.175781</td>\n",
       "    </tr>\n",
       "    <tr>\n",
       "      <th>1824</th>\n",
       "      <td>59354.515625</td>\n",
       "      <td>58383.523438</td>\n",
       "    </tr>\n",
       "    <tr>\n",
       "      <th>1825</th>\n",
       "      <td>60609.566406</td>\n",
       "      <td>57016.273438</td>\n",
       "    </tr>\n",
       "    <tr>\n",
       "      <th>1826</th>\n",
       "      <td>58737.269531</td>\n",
       "      <td>58663.210938</td>\n",
       "    </tr>\n",
       "  </tbody>\n",
       "</table>\n",
       "<p>456 rows × 2 columns</p>\n",
       "</div>"
      ],
      "text/plain": [
       "             Close   Predictions\n",
       "1371  27398.802734  26757.044922\n",
       "1372  26832.208984  26929.546875\n",
       "1373  26890.128906  27012.541016\n",
       "1374  27129.585938  26965.910156\n",
       "1375  26753.826172  26899.437500\n",
       "...            ...           ...\n",
       "1822  60945.812500  61188.890625\n",
       "1823  58719.484375  61071.175781\n",
       "1824  59354.515625  58383.523438\n",
       "1825  60609.566406  57016.273438\n",
       "1826  58737.269531  58663.210938\n",
       "\n",
       "[456 rows x 2 columns]"
      ]
     },
     "execution_count": 18,
     "metadata": {},
     "output_type": "execute_result"
    }
   ],
   "source": [
    "valid"
   ]
  },
  {
   "cell_type": "code",
   "execution_count": 19,
   "metadata": {},
   "outputs": [],
   "source": [
    "valid.to_csv('Bitcoin_pred.csv', index=False)"
   ]
  },
  {
   "cell_type": "code",
   "execution_count": 20,
   "metadata": {
    "colab": {
     "base_uri": "https://localhost:8080/"
    },
    "id": "mJUaFkIbvWv-",
    "outputId": "07b9f8d0-c08d-4206-bbf0-09e9c420cead"
   },
   "outputs": [
    {
     "data": {
      "text/plain": [
       "array([[0.07841059],\n",
       "       [0.07933249],\n",
       "       [0.07723898],\n",
       "       ...,\n",
       "       [0.32240458],\n",
       "       [0.32625195],\n",
       "       [0.323961  ]])"
      ]
     },
     "execution_count": 20,
     "metadata": {},
     "output_type": "execute_result"
    }
   ],
   "source": [
    "train_data"
   ]
  },
  {
   "cell_type": "code",
   "execution_count": 21,
   "metadata": {
    "colab": {
     "base_uri": "https://localhost:8080/"
    },
    "id": "-5EGYtRzvgUV",
    "outputId": "0eb62bc5-f92a-47dd-faaa-21bf5a9ece6b"
   },
   "outputs": [
    {
     "name": "stdout",
     "output_type": "stream",
     "text": [
      "1/1 [==============================] - 0s 19ms/step\n",
      "1/1 [==============================] - 0s 19ms/step\n",
      "1/1 [==============================] - 0s 18ms/step\n",
      "1/1 [==============================] - 0s 23ms/step\n",
      "1/1 [==============================] - 0s 17ms/step\n",
      "1/1 [==============================] - 0s 19ms/step\n",
      "1/1 [==============================] - 0s 20ms/step\n",
      "1/1 [==============================] - 0s 31ms/step\n",
      "1/1 [==============================] - 0s 26ms/step\n",
      "1/1 [==============================] - 0s 23ms/step\n",
      "1/1 [==============================] - 0s 22ms/step\n",
      "1/1 [==============================] - 0s 24ms/step\n",
      "1/1 [==============================] - 0s 24ms/step\n",
      "1/1 [==============================] - 0s 24ms/step\n",
      "1/1 [==============================] - 0s 18ms/step\n",
      "1/1 [==============================] - 0s 23ms/step\n",
      "1/1 [==============================] - 0s 23ms/step\n",
      "1/1 [==============================] - 0s 34ms/step\n",
      "1/1 [==============================] - 0s 27ms/step\n",
      "1/1 [==============================] - 0s 28ms/step\n",
      "1/1 [==============================] - 0s 25ms/step\n",
      "1/1 [==============================] - 0s 31ms/step\n",
      "1/1 [==============================] - 0s 32ms/step\n",
      "1/1 [==============================] - 0s 26ms/step\n",
      "1/1 [==============================] - 0s 25ms/step\n",
      "1/1 [==============================] - 0s 26ms/step\n",
      "1/1 [==============================] - 0s 33ms/step\n",
      "1/1 [==============================] - 0s 26ms/step\n",
      "1/1 [==============================] - 0s 14ms/step\n",
      "1/1 [==============================] - 0s 30ms/step\n",
      "1/1 [==============================] - 0s 27ms/step\n",
      "1/1 [==============================] - 0s 21ms/step\n",
      "1/1 [==============================] - 0s 21ms/step\n",
      "1/1 [==============================] - 0s 25ms/step\n",
      "1/1 [==============================] - 0s 26ms/step\n",
      "1/1 [==============================] - 0s 28ms/step\n",
      "1/1 [==============================] - 0s 26ms/step\n",
      "1/1 [==============================] - 0s 21ms/step\n",
      "1/1 [==============================] - 0s 25ms/step\n",
      "1/1 [==============================] - 0s 29ms/step\n",
      "1/1 [==============================] - 0s 25ms/step\n",
      "1/1 [==============================] - 0s 27ms/step\n",
      "1/1 [==============================] - 0s 27ms/step\n",
      "1/1 [==============================] - 0s 23ms/step\n",
      "1/1 [==============================] - 0s 16ms/step\n",
      "1/1 [==============================] - 0s 29ms/step\n",
      "1/1 [==============================] - 0s 23ms/step\n",
      "1/1 [==============================] - 0s 27ms/step\n",
      "1/1 [==============================] - 0s 29ms/step\n",
      "1/1 [==============================] - 0s 26ms/step\n",
      "1/1 [==============================] - 0s 22ms/step\n",
      "1/1 [==============================] - 0s 20ms/step\n",
      "1/1 [==============================] - 0s 21ms/step\n",
      "1/1 [==============================] - 0s 23ms/step\n",
      "1/1 [==============================] - 0s 18ms/step\n",
      "1/1 [==============================] - 0s 24ms/step\n",
      "1/1 [==============================] - 0s 26ms/step\n",
      "1/1 [==============================] - 0s 30ms/step\n",
      "1/1 [==============================] - 0s 20ms/step\n",
      "1/1 [==============================] - 0s 28ms/step\n",
      "1/1 [==============================] - 0s 24ms/step\n",
      "1/1 [==============================] - 0s 21ms/step\n",
      "1/1 [==============================] - 0s 19ms/step\n",
      "1/1 [==============================] - 0s 19ms/step\n",
      "1/1 [==============================] - 0s 28ms/step\n",
      "1/1 [==============================] - 0s 20ms/step\n",
      "1/1 [==============================] - 0s 26ms/step\n",
      "1/1 [==============================] - 0s 28ms/step\n",
      "1/1 [==============================] - 0s 21ms/step\n",
      "1/1 [==============================] - 0s 23ms/step\n",
      "1/1 [==============================] - 0s 27ms/step\n",
      "1/1 [==============================] - 0s 24ms/step\n",
      "1/1 [==============================] - 0s 28ms/step\n",
      "1/1 [==============================] - 0s 28ms/step\n",
      "1/1 [==============================] - 0s 21ms/step\n",
      "1/1 [==============================] - 0s 24ms/step\n",
      "1/1 [==============================] - 0s 27ms/step\n",
      "1/1 [==============================] - 0s 23ms/step\n",
      "1/1 [==============================] - 0s 26ms/step\n",
      "1/1 [==============================] - 0s 23ms/step\n",
      "1/1 [==============================] - 0s 22ms/step\n",
      "1/1 [==============================] - 0s 31ms/step\n",
      "1/1 [==============================] - 0s 26ms/step\n",
      "1/1 [==============================] - 0s 32ms/step\n",
      "1/1 [==============================] - 0s 35ms/step\n",
      "1/1 [==============================] - 0s 30ms/step\n",
      "1/1 [==============================] - 0s 30ms/step\n",
      "1/1 [==============================] - 0s 28ms/step\n",
      "1/1 [==============================] - 0s 19ms/step\n",
      "1/1 [==============================] - 0s 23ms/step\n",
      "1/1 [==============================] - 0s 33ms/step\n",
      "1/1 [==============================] - 0s 32ms/step\n",
      "1/1 [==============================] - 0s 25ms/step\n",
      "1/1 [==============================] - 0s 21ms/step\n",
      "1/1 [==============================] - 0s 13ms/step\n",
      "1/1 [==============================] - 0s 17ms/step\n",
      "1/1 [==============================] - 0s 32ms/step\n",
      "1/1 [==============================] - 0s 27ms/step\n",
      "1/1 [==============================] - 0s 32ms/step\n",
      "1/1 [==============================] - 0s 29ms/step\n",
      "[[13950.494]]\n"
     ]
    }
   ],
   "source": [
    "\"\"\"This block of code generates predictions for future prices based on the last known data.\n",
    "It appends each new prediction to the current sequence and makes further predictions for num_days into the future.\"\"\"\n",
    "current_feature = train_data[-d:]\n",
    "num_days, curr_day = 100, 0\n",
    "while curr_day < num_days:\n",
    "    prediction = model.predict(current_feature.reshape(1, d, 1))\n",
    "    curr_day += 1\n",
    "    current_feature = np.append(current_feature, prediction)\n",
    "    prediction = scaler.inverse_transform(prediction)\n",
    "    current_feature = current_feature[1:]\n",
    "\n",
    "print(prediction)"
   ]
  },
  {
   "cell_type": "code",
   "execution_count": 22,
   "metadata": {
    "colab": {
     "base_uri": "https://localhost:8080/"
    },
    "id": "dhC0pJiOHeLu",
    "outputId": "508043fb-a460-4dfa-a169-982a600dd5a1"
   },
   "outputs": [
    {
     "name": "stdout",
     "output_type": "stream",
     "text": [
      "Epoch 1/5\n",
      "257/257 [==============================] - 27s 81ms/step - loss: 0.0602\n",
      "Epoch 2/5\n",
      "257/257 [==============================] - 21s 81ms/step - loss: 0.0422\n",
      "Epoch 3/5\n",
      "257/257 [==============================] - 21s 82ms/step - loss: 0.0344\n",
      "Epoch 4/5\n",
      "257/257 [==============================] - 21s 81ms/step - loss: 0.0302\n",
      "Epoch 5/5\n",
      "257/257 [==============================] - 22s 84ms/step - loss: 0.0230\n",
      "15/15 [==============================] - 2s 42ms/step\n",
      "Epoch 1/5\n",
      "257/257 [==============================] - 28s 84ms/step - loss: 0.0546\n",
      "Epoch 2/5\n",
      "257/257 [==============================] - 22s 85ms/step - loss: 0.0403\n",
      "Epoch 3/5\n",
      "257/257 [==============================] - 22s 86ms/step - loss: 0.0335\n",
      "Epoch 4/5\n",
      "257/257 [==============================] - 22s 84ms/step - loss: 0.0276\n",
      "Epoch 5/5\n",
      "257/257 [==============================] - 21s 83ms/step - loss: 0.0243\n",
      "15/15 [==============================] - 2s 41ms/step\n",
      "Epoch 1/5\n",
      "257/257 [==============================] - 28s 82ms/step - loss: 0.0624\n",
      "Epoch 2/5\n",
      "257/257 [==============================] - 21s 83ms/step - loss: 0.0405\n",
      "Epoch 3/5\n",
      "257/257 [==============================] - 21s 84ms/step - loss: 0.0333\n",
      "Epoch 4/5\n",
      "257/257 [==============================] - 22s 84ms/step - loss: 0.0291\n",
      "Epoch 5/5\n",
      "257/257 [==============================] - 22s 84ms/step - loss: 0.0282\n",
      "15/15 [==============================] - 2s 41ms/step\n",
      "Epoch 1/5\n",
      "257/257 [==============================] - 28s 83ms/step - loss: 0.0588\n",
      "Epoch 2/5\n",
      "257/257 [==============================] - 22s 85ms/step - loss: 0.0440\n",
      "Epoch 3/5\n",
      "257/257 [==============================] - 22s 85ms/step - loss: 0.0346\n",
      "Epoch 4/5\n",
      "257/257 [==============================] - 22s 86ms/step - loss: 0.0306\n",
      "Epoch 5/5\n",
      "257/257 [==============================] - 22s 86ms/step - loss: 0.0253\n",
      "15/15 [==============================] - 2s 43ms/step\n",
      "Epoch 1/5\n",
      "257/257 [==============================] - 27s 83ms/step - loss: 0.0629\n",
      "Epoch 2/5\n",
      "257/257 [==============================] - 21s 82ms/step - loss: 0.0382\n",
      "Epoch 3/5\n",
      "257/257 [==============================] - 22s 87ms/step - loss: 0.0352\n",
      "Epoch 4/5\n",
      "257/257 [==============================] - 22s 85ms/step - loss: 0.0322\n",
      "Epoch 5/5\n",
      "257/257 [==============================] - 22s 85ms/step - loss: 0.0280\n",
      "15/15 [==============================] - 2s 43ms/step\n",
      "Epoch 1/5\n",
      "257/257 [==============================] - 27s 84ms/step - loss: 0.0626\n",
      "Epoch 2/5\n",
      "257/257 [==============================] - 22s 84ms/step - loss: 0.0375\n",
      "Epoch 3/5\n",
      "257/257 [==============================] - 22s 84ms/step - loss: 0.0383\n",
      "Epoch 4/5\n",
      "257/257 [==============================] - 22s 84ms/step - loss: 0.0299\n",
      "Epoch 5/5\n",
      "257/257 [==============================] - 22s 84ms/step - loss: 0.0283\n",
      "15/15 [==============================] - 2s 42ms/step\n"
     ]
    }
   ],
   "source": [
    "\"\"\"This code is designed to find the optimal value for d—the number of past days used to predict the next closing price in a time series model using an LSTM architecture.\n",
    "It iterates over a set of different d values (7, 10, 30, 60, 90, 120), trains an LSTM model for each value of d, and evaluates its performance using Mean Absolute Error (MAE). \"\"\"\n",
    "\n",
    "d_values = [7, 10, 30, 60, 90, 120]\n",
    "mae_values = []\n",
    "\"\"\"The for-loop iterates over each value of d in d_values, and for each iteration,\n",
    "a complete model is built, trained, and evaluated.\"\"\"\n",
    "for d in d_values:\n",
    "    \n",
    "    df = pd.read_csv(\"cryptocurrencies_combined_daily.csv\")\n",
    "    df = df[df['Cryptocurrency'] == \"Bitcoin\"]\n",
    "    \n",
    "    data = df.filter([\"Close\"])\n",
    "   \n",
    "    dataset = data.values\n",
    "\n",
    "    \n",
    "    training_data_len = int(math.ceil(0.75 * len(dataset)))\n",
    "\n",
    "   \n",
    "    scaler = MinMaxScaler(feature_range=(0, 1))\n",
    "    scaled_data = scaler.fit_transform(dataset)\n",
    "\n",
    "    \"\"\"\n",
    "Training the model.train_data: Contains the scaled training data (the first 75% of the dataset).\n",
    "x_train: This is where the input sequences are stored. \n",
    "For each sequence, it takes d past values from the train_data to predict the next value.\n",
    "y_train: This stores the value the model is trained to predict—the day after the d past values.\n",
    "The for-loop moves a sliding window over the training data, creating input-output pairs.\n",
    "    \"\"\"\n",
    "    \n",
    "    train_data = scaled_data[:training_data_len, :]\n",
    "  \n",
    "    x_train, y_train = [], []\n",
    "    d = 90\n",
    "    \n",
    "    for i in range(d, len(train_data)):\n",
    "        x_train.append(train_data[i - d:i, 0])\n",
    "        y_train.append(train_data[i, 0])\n",
    "    \"\"\"\n",
    "    x_train array contains the past 90 days value of the closing price of the stock.\n",
    "    y_train contains the 91st value that we want our model to be able to predict based on those\n",
    "    past 90 day closing prices.\n",
    "    \"\"\"\n",
    "    \n",
    "    x_train, y_train = np.array(x_train), np.array(y_train)\n",
    "\n",
    "    # Reshape the x_train dataset.\n",
    "    \"\"\"\n",
    "    LSTM Network expects the data to be 3-D: Number of samples, timestamps, features.\n",
    "    \"\"\"\n",
    "    x_train = np.reshape(x_train, (x_train.shape[0], x_train.shape[1], 1))\n",
    "    # Build the LSTM Model Architecture.\n",
    "    model1 = Sequential()\n",
    "\n",
    "  \n",
    "    model1.add(LSTM(125, return_sequences=True, input_shape=(x_train.shape[1], 1)))\n",
    "   \n",
    "    model1.add(LSTM(100, return_sequences=True))\n",
    "    model1.add(LSTM(70, return_sequences=True))\n",
    "    model1.add(LSTM(50, return_sequences=True))\n",
    "    model1.add(LSTM(30, return_sequences=False))\n",
    "\n",
    "   \n",
    "    model1.add(Dense(25))\n",
    "    model1.add(Dense(1))\n",
    "\n",
    "    # Compile the model.\n",
    "    model1.compile(optimizer=\"adam\", loss=\"mean_absolute_error\")\n",
    "    # Train the model.\n",
    "    \"\"\"\n",
    "    No. of forward and backward passes for backpropagation algorithm = 1.\n",
    "    Batch size = 1.\n",
    "    \"\"\"\n",
    "    model1.fit(x_train, y_train, batch_size=5, epochs=5)\n",
    "   \n",
    "    test_data = scaled_data[training_data_len - d:, :]\n",
    "    \n",
    "    x_test = []\n",
    "    y_test = dataset[training_data_len:, :]\n",
    "    for i in range(d, len(test_data)):\n",
    "        x_test.append(test_data[i - d:i, 0])\n",
    "    \n",
    "    x_test = np.array(x_test)\n",
    "   \n",
    "    x_test = np.reshape(x_test, (x_test.shape[0], x_test.shape[1], 1))\n",
    "\n",
    "    \n",
    "    predictions = model1.predict(x_test)\n",
    "   \n",
    "    predictions = scaler.inverse_transform(predictions)\n",
    "\n",
    "    mae = np.mean(np.abs(predictions - y_test))\n",
    "    mae_values.append(mae)"
   ]
  },
  {
   "cell_type": "code",
   "execution_count": 23,
   "metadata": {
    "colab": {
     "base_uri": "https://localhost:8080/",
     "height": 508
    },
    "id": "KLnB0Jd_IuRQ",
    "outputId": "734d8e09-d26e-482f-9c49-65ca39af68d4"
   },
   "outputs": [
    {
     "data": {
      "image/png": "[encoded data removed]",
      "text/plain": [
       "<Figure size 640x480 with 1 Axes>"
      ]
     },
     "metadata": {},
     "output_type": "display_data"
    }
   ],
   "source": [
    "plt.plot(d_values, mae_values, marker='o', linestyle='-', color='b')\n",
    "\n",
    "\n",
    "plt.title('MAE vs D for Bitcoin')\n",
    "plt.xlabel('D Values')\n",
    "plt.ylabel('MAE Values')\n",
    "\n",
    "\n",
    "plt.grid(True)\n",
    "\n",
    "\n",
    "plt.show()"
   ]
  },
  {
   "cell_type": "code",
   "execution_count": 24,
   "metadata": {},
   "outputs": [
    {
     "ename": "NameError",
     "evalue": "name 'pickle' is not defined",
     "output_type": "error",
     "traceback": [
      "\u001b[1;31m---------------------------------------------------------------------------\u001b[0m",
      "\u001b[1;31mNameError\u001b[0m                                 Traceback (most recent call last)",
      "Cell \u001b[1;32mIn [24], line 2\u001b[0m\n\u001b[0;32m      1\u001b[0m \u001b[38;5;28;01mwith\u001b[39;00m \u001b[38;5;28mopen\u001b[39m(\u001b[38;5;124m'\u001b[39m\u001b[38;5;124mBitcoin.pkl\u001b[39m\u001b[38;5;124m'\u001b[39m,\u001b[38;5;124m'\u001b[39m\u001b[38;5;124mwb\u001b[39m\u001b[38;5;124m'\u001b[39m) \u001b[38;5;28;01mas\u001b[39;00m file:\n\u001b[1;32m----> 2\u001b[0m     \u001b[43mpickle\u001b[49m\u001b[38;5;241m.\u001b[39mdump(model, file)\n",
      "\u001b[1;31mNameError\u001b[0m: name 'pickle' is not defined"
     ]
    }
   ],
   "source": [
    "with open('Bitcoin.pkl','wb') as file:\n",
    "    pickle.dump(model, file)\n",
    "    "
   ]
  },
  {
   "cell_type": "code",
   "execution_count": null,
   "metadata": {},
   "outputs": [],
   "source": [
    "import pickle"
   ]
  },
  {
   "cell_type": "code",
   "execution_count": null,
   "metadata": {},
   "outputs": [],
   "source": []
  },
  {
   "cell_type": "code",
   "execution_count": null,
   "metadata": {},
   "outputs": [],
   "source": []
  }
 ],
 "metadata": {
  "colab": {
   "provenance": []
  },
  "kernelspec": {
   "display_name": "Python 3 (ipykernel)",
   "language": "python",
   "name": "python3"
  },
  "language_info": {
   "codemirror_mode": {
    "name": "ipython",
    "version": 3
   },
   "file_extension": ".py",
   "mimetype": "text/x-python",
   "name": "python",
   "nbconvert_exporter": "python",
   "pygments_lexer": "ipython3",
   "version": "3.8.10"
  }
 },
 "nbformat": 4,
 "nbformat_minor": 1
}
