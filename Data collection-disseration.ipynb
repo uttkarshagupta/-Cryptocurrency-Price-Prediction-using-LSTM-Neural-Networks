{
 "cells": [
  {
   "cell_type": "markdown",
   "id": "e6461097",
   "metadata": {},
   "source": [
    "# Fetch historical cryptocurrency daily data from yahoo finance for past 5 years"
   ]
  },
  {
   "cell_type": "code",
   "execution_count": 1,
   "id": "488b6848",
   "metadata": {},
   "outputs": [
    {
     "name": "stderr",
     "output_type": "stream",
     "text": [
      "[*********************100%%**********************]  1 of 1 completed\n",
      "[*********************100%%**********************]  1 of 1 completed\n",
      "[*********************100%%**********************]  1 of 1 completed\n",
      "[*********************100%%**********************]  1 of 1 completed\n",
      "[*********************100%%**********************]  1 of 1 completed\n"
     ]
    },
    {
     "name": "stdout",
     "output_type": "stream",
     "text": [
      "Data saved to cryptocurrencies_combined_daily.csv\n"
     ]
    }
   ],
   "source": [
    "import yfinance as yf\n",
    "import pandas as pd\n",
    "from datetime import datetime\n",
    "\n",
    "# Define the list of cryptocurrencies and their Yahoo Finance tickers\n",
    "cryptocurrencies = {\n",
    "    'Bitcoin': 'BTC-USD',\n",
    "    'Ethereum': 'ETH-USD',\n",
    "    'Ripple': 'XRP-USD',\n",
    "    'Litecoin': 'LTC-USD',\n",
    "    'Cardano': 'ADA-USD'\n",
    "}\n",
    "\n",
    "# Define the time period (past 5 years)\n",
    "end_date = datetime.now().strftime('%Y-%m-%d')\n",
    "start_date = (datetime.now() - pd.DateOffset(years=5)).strftime('%Y-%m-%d')\n",
    "\n",
    "# Create an empty DataFrame to store all the data\n",
    "combined_data = pd.DataFrame()\n",
    "\n",
    "# Function to fetch and merge data\n",
    "def fetch_and_merge_data(ticker, crypto_name):\n",
    "    data = yf.download(ticker, start=start_date, end=end_date, interval='1d')\n",
    "    \n",
    "    data['Cryptocurrency'] = crypto_name\n",
    "    \n",
    "    data.reset_index(inplace=True)\n",
    "    \n",
    "    return data\n",
    "\n",
    "\n",
    "for name, ticker in cryptocurrencies.items():\n",
    "    crypto_data = fetch_and_merge_data(ticker, name)\n",
    "    combined_data = pd.concat([combined_data, crypto_data], ignore_index=True)\n",
    "\n",
    "\n",
    "combined_data.to_csv('cryptocurrencies_combined_daily.csv', index=False)\n",
    "print('Data saved to cryptocurrencies_combined_daily.csv')"
   ]
  },
  {
   "cell_type": "code",
   "execution_count": 2,
   "id": "f91d99e2",
   "metadata": {},
   "outputs": [],
   "source": [
    "# Load our dataset \n",
    "\n",
    "import os\n",
    "import pandas as pd\n",
    "import numpy as np\n",
    "import math\n",
    "import datetime as dt\n",
    "\n",
    "maindf=pd.read_csv('cryptocurrencies_combined_daily.csv')"
   ]
  },
  {
   "cell_type": "code",
   "execution_count": 3,
   "id": "73aa33ea",
   "metadata": {},
   "outputs": [
    {
     "name": "stdout",
     "output_type": "stream",
     "text": [
      "Total number of days present in the dataset:  9135\n",
      "Total number of fields present in the dataset:  8\n"
     ]
    }
   ],
   "source": [
    "print('Total number of days present in the dataset: ',maindf.shape[0])\n",
    "print('Total number of fields present in the dataset: ',maindf.shape[1])"
   ]
  },
  {
   "cell_type": "code",
   "execution_count": 4,
   "id": "91d8487a",
   "metadata": {},
   "outputs": [
    {
     "data": {
      "text/plain": [
       "(9135, 8)"
      ]
     },
     "execution_count": 4,
     "metadata": {},
     "output_type": "execute_result"
    }
   ],
   "source": [
    "maindf.shape"
   ]
  },
  {
   "cell_type": "code",
   "execution_count": 5,
   "id": "add317a0",
   "metadata": {},
   "outputs": [
    {
     "data": {
      "text/html": [
       "<div>\n",
       "<style scoped>\n",
       "    .dataframe tbody tr th:only-of-type {\n",
       "        vertical-align: middle;\n",
       "    }\n",
       "\n",
       "    .dataframe tbody tr th {\n",
       "        vertical-align: top;\n",
       "    }\n",
       "\n",
       "    .dataframe thead th {\n",
       "        text-align: right;\n",
       "    }\n",
       "</style>\n",
       "<table border=\"1\" class=\"dataframe\">\n",
       "  <thead>\n",
       "    <tr style=\"text-align: right;\">\n",
       "      <th></th>\n",
       "      <th>Date</th>\n",
       "      <th>Open</th>\n",
       "      <th>High</th>\n",
       "      <th>Low</th>\n",
       "      <th>Close</th>\n",
       "      <th>Adj Close</th>\n",
       "      <th>Volume</th>\n",
       "      <th>Cryptocurrency</th>\n",
       "    </tr>\n",
       "  </thead>\n",
       "  <tbody>\n",
       "    <tr>\n",
       "      <th>0</th>\n",
       "      <td>2019-08-15</td>\n",
       "      <td>10038.421875</td>\n",
       "      <td>10437.411133</td>\n",
       "      <td>9675.316406</td>\n",
       "      <td>10311.545898</td>\n",
       "      <td>10311.545898</td>\n",
       "      <td>22899115082</td>\n",
       "      <td>Bitcoin</td>\n",
       "    </tr>\n",
       "    <tr>\n",
       "      <th>1</th>\n",
       "      <td>2019-08-16</td>\n",
       "      <td>10319.419922</td>\n",
       "      <td>10524.349609</td>\n",
       "      <td>9855.478516</td>\n",
       "      <td>10374.338867</td>\n",
       "      <td>10374.338867</td>\n",
       "      <td>20228207096</td>\n",
       "      <td>Bitcoin</td>\n",
       "    </tr>\n",
       "    <tr>\n",
       "      <th>2</th>\n",
       "      <td>2019-08-17</td>\n",
       "      <td>10358.722656</td>\n",
       "      <td>10452.625000</td>\n",
       "      <td>10086.698242</td>\n",
       "      <td>10231.744141</td>\n",
       "      <td>10231.744141</td>\n",
       "      <td>13778035685</td>\n",
       "      <td>Bitcoin</td>\n",
       "    </tr>\n",
       "    <tr>\n",
       "      <th>3</th>\n",
       "      <td>2019-08-18</td>\n",
       "      <td>10233.005859</td>\n",
       "      <td>10487.070312</td>\n",
       "      <td>10119.094727</td>\n",
       "      <td>10345.810547</td>\n",
       "      <td>10345.810547</td>\n",
       "      <td>12999813869</td>\n",
       "      <td>Bitcoin</td>\n",
       "    </tr>\n",
       "    <tr>\n",
       "      <th>4</th>\n",
       "      <td>2019-08-19</td>\n",
       "      <td>10350.283203</td>\n",
       "      <td>10916.053711</td>\n",
       "      <td>10313.204102</td>\n",
       "      <td>10916.053711</td>\n",
       "      <td>10916.053711</td>\n",
       "      <td>16038264603</td>\n",
       "      <td>Bitcoin</td>\n",
       "    </tr>\n",
       "  </tbody>\n",
       "</table>\n",
       "</div>"
      ],
      "text/plain": [
       "         Date          Open          High           Low         Close  \\\n",
       "0  2019-08-15  10038.421875  10437.411133   9675.316406  10311.545898   \n",
       "1  2019-08-16  10319.419922  10524.349609   9855.478516  10374.338867   \n",
       "2  2019-08-17  10358.722656  10452.625000  10086.698242  10231.744141   \n",
       "3  2019-08-18  10233.005859  10487.070312  10119.094727  10345.810547   \n",
       "4  2019-08-19  10350.283203  10916.053711  10313.204102  10916.053711   \n",
       "\n",
       "      Adj Close       Volume Cryptocurrency  \n",
       "0  10311.545898  22899115082        Bitcoin  \n",
       "1  10374.338867  20228207096        Bitcoin  \n",
       "2  10231.744141  13778035685        Bitcoin  \n",
       "3  10345.810547  12999813869        Bitcoin  \n",
       "4  10916.053711  16038264603        Bitcoin  "
      ]
     },
     "execution_count": 5,
     "metadata": {},
     "output_type": "execute_result"
    }
   ],
   "source": [
    "maindf.head()"
   ]
  },
  {
   "cell_type": "code",
   "execution_count": 6,
   "id": "c90597ea",
   "metadata": {},
   "outputs": [
    {
     "data": {
      "text/html": [
       "<div>\n",
       "<style scoped>\n",
       "    .dataframe tbody tr th:only-of-type {\n",
       "        vertical-align: middle;\n",
       "    }\n",
       "\n",
       "    .dataframe tbody tr th {\n",
       "        vertical-align: top;\n",
       "    }\n",
       "\n",
       "    .dataframe thead th {\n",
       "        text-align: right;\n",
       "    }\n",
       "</style>\n",
       "<table border=\"1\" class=\"dataframe\">\n",
       "  <thead>\n",
       "    <tr style=\"text-align: right;\">\n",
       "      <th></th>\n",
       "      <th>Date</th>\n",
       "      <th>Open</th>\n",
       "      <th>High</th>\n",
       "      <th>Low</th>\n",
       "      <th>Close</th>\n",
       "      <th>Adj Close</th>\n",
       "      <th>Volume</th>\n",
       "      <th>Cryptocurrency</th>\n",
       "    </tr>\n",
       "  </thead>\n",
       "  <tbody>\n",
       "    <tr>\n",
       "      <th>9130</th>\n",
       "      <td>2024-08-10</td>\n",
       "      <td>0.348547</td>\n",
       "      <td>0.351765</td>\n",
       "      <td>0.345273</td>\n",
       "      <td>0.346289</td>\n",
       "      <td>0.346289</td>\n",
       "      <td>155114866</td>\n",
       "      <td>Cardano</td>\n",
       "    </tr>\n",
       "    <tr>\n",
       "      <th>9131</th>\n",
       "      <td>2024-08-11</td>\n",
       "      <td>0.346292</td>\n",
       "      <td>0.356275</td>\n",
       "      <td>0.328037</td>\n",
       "      <td>0.328322</td>\n",
       "      <td>0.328322</td>\n",
       "      <td>203353395</td>\n",
       "      <td>Cardano</td>\n",
       "    </tr>\n",
       "    <tr>\n",
       "      <th>9132</th>\n",
       "      <td>2024-08-12</td>\n",
       "      <td>0.328319</td>\n",
       "      <td>0.343978</td>\n",
       "      <td>0.328052</td>\n",
       "      <td>0.338977</td>\n",
       "      <td>0.338977</td>\n",
       "      <td>276146893</td>\n",
       "      <td>Cardano</td>\n",
       "    </tr>\n",
       "    <tr>\n",
       "      <th>9133</th>\n",
       "      <td>2024-08-13</td>\n",
       "      <td>0.338977</td>\n",
       "      <td>0.344656</td>\n",
       "      <td>0.331890</td>\n",
       "      <td>0.340154</td>\n",
       "      <td>0.340154</td>\n",
       "      <td>208538494</td>\n",
       "      <td>Cardano</td>\n",
       "    </tr>\n",
       "    <tr>\n",
       "      <th>9134</th>\n",
       "      <td>2024-08-14</td>\n",
       "      <td>0.340146</td>\n",
       "      <td>0.345194</td>\n",
       "      <td>0.332437</td>\n",
       "      <td>0.335455</td>\n",
       "      <td>0.335455</td>\n",
       "      <td>206602286</td>\n",
       "      <td>Cardano</td>\n",
       "    </tr>\n",
       "  </tbody>\n",
       "</table>\n",
       "</div>"
      ],
      "text/plain": [
       "            Date      Open      High       Low     Close  Adj Close  \\\n",
       "9130  2024-08-10  0.348547  0.351765  0.345273  0.346289   0.346289   \n",
       "9131  2024-08-11  0.346292  0.356275  0.328037  0.328322   0.328322   \n",
       "9132  2024-08-12  0.328319  0.343978  0.328052  0.338977   0.338977   \n",
       "9133  2024-08-13  0.338977  0.344656  0.331890  0.340154   0.340154   \n",
       "9134  2024-08-14  0.340146  0.345194  0.332437  0.335455   0.335455   \n",
       "\n",
       "         Volume Cryptocurrency  \n",
       "9130  155114866        Cardano  \n",
       "9131  203353395        Cardano  \n",
       "9132  276146893        Cardano  \n",
       "9133  208538494        Cardano  \n",
       "9134  206602286        Cardano  "
      ]
     },
     "execution_count": 6,
     "metadata": {},
     "output_type": "execute_result"
    }
   ],
   "source": [
    "maindf.tail()"
   ]
  },
  {
   "cell_type": "code",
   "execution_count": 7,
   "id": "0f680dcf",
   "metadata": {},
   "outputs": [
    {
     "name": "stdout",
     "output_type": "stream",
     "text": [
      "<class 'pandas.core.frame.DataFrame'>\n",
      "RangeIndex: 9135 entries, 0 to 9134\n",
      "Data columns (total 8 columns):\n",
      " #   Column          Non-Null Count  Dtype  \n",
      "---  ------          --------------  -----  \n",
      " 0   Date            9135 non-null   object \n",
      " 1   Open            9135 non-null   float64\n",
      " 2   High            9135 non-null   float64\n",
      " 3   Low             9135 non-null   float64\n",
      " 4   Close           9135 non-null   float64\n",
      " 5   Adj Close       9135 non-null   float64\n",
      " 6   Volume          9135 non-null   int64  \n",
      " 7   Cryptocurrency  9135 non-null   object \n",
      "dtypes: float64(5), int64(1), object(2)\n",
      "memory usage: 571.1+ KB\n"
     ]
    }
   ],
   "source": [
    "maindf.info()"
   ]
  },
  {
   "cell_type": "code",
   "execution_count": 8,
   "id": "b7a2519d",
   "metadata": {},
   "outputs": [
    {
     "data": {
      "text/html": [
       "<div>\n",
       "<style scoped>\n",
       "    .dataframe tbody tr th:only-of-type {\n",
       "        vertical-align: middle;\n",
       "    }\n",
       "\n",
       "    .dataframe tbody tr th {\n",
       "        vertical-align: top;\n",
       "    }\n",
       "\n",
       "    .dataframe thead th {\n",
       "        text-align: right;\n",
       "    }\n",
       "</style>\n",
       "<table border=\"1\" class=\"dataframe\">\n",
       "  <thead>\n",
       "    <tr style=\"text-align: right;\">\n",
       "      <th></th>\n",
       "      <th>Open</th>\n",
       "      <th>High</th>\n",
       "      <th>Low</th>\n",
       "      <th>Close</th>\n",
       "      <th>Adj Close</th>\n",
       "      <th>Volume</th>\n",
       "    </tr>\n",
       "  </thead>\n",
       "  <tbody>\n",
       "    <tr>\n",
       "      <th>count</th>\n",
       "      <td>9135.000000</td>\n",
       "      <td>9135.000000</td>\n",
       "      <td>9135.000000</td>\n",
       "      <td>9135.000000</td>\n",
       "      <td>9135.000000</td>\n",
       "      <td>9.135000e+03</td>\n",
       "    </tr>\n",
       "    <tr>\n",
       "      <th>mean</th>\n",
       "      <td>6613.664178</td>\n",
       "      <td>6761.780345</td>\n",
       "      <td>6454.555634</td>\n",
       "      <td>6618.779778</td>\n",
       "      <td>6618.779778</td>\n",
       "      <td>1.054687e+10</td>\n",
       "    </tr>\n",
       "    <tr>\n",
       "      <th>std</th>\n",
       "      <td>14826.247812</td>\n",
       "      <td>15159.294440</td>\n",
       "      <td>14462.494271</td>\n",
       "      <td>14834.795912</td>\n",
       "      <td>14834.795912</td>\n",
       "      <td>1.487517e+10</td>\n",
       "    </tr>\n",
       "    <tr>\n",
       "      <th>min</th>\n",
       "      <td>0.023954</td>\n",
       "      <td>0.025993</td>\n",
       "      <td>0.019130</td>\n",
       "      <td>0.023961</td>\n",
       "      <td>0.023961</td>\n",
       "      <td>1.958898e+07</td>\n",
       "    </tr>\n",
       "    <tr>\n",
       "      <th>25%</th>\n",
       "      <td>0.515896</td>\n",
       "      <td>0.527335</td>\n",
       "      <td>0.501424</td>\n",
       "      <td>0.516445</td>\n",
       "      <td>0.516445</td>\n",
       "      <td>8.713607e+08</td>\n",
       "    </tr>\n",
       "    <tr>\n",
       "      <th>50%</th>\n",
       "      <td>74.911057</td>\n",
       "      <td>76.675430</td>\n",
       "      <td>72.618980</td>\n",
       "      <td>74.920151</td>\n",
       "      <td>74.920151</td>\n",
       "      <td>3.260639e+09</td>\n",
       "    </tr>\n",
       "    <tr>\n",
       "      <th>75%</th>\n",
       "      <td>2662.135864</td>\n",
       "      <td>2753.648071</td>\n",
       "      <td>2565.137329</td>\n",
       "      <td>2662.890015</td>\n",
       "      <td>2662.890015</td>\n",
       "      <td>1.598940e+10</td>\n",
       "    </tr>\n",
       "    <tr>\n",
       "      <th>max</th>\n",
       "      <td>73079.375000</td>\n",
       "      <td>73750.070312</td>\n",
       "      <td>71334.093750</td>\n",
       "      <td>73083.500000</td>\n",
       "      <td>73083.500000</td>\n",
       "      <td>3.509679e+11</td>\n",
       "    </tr>\n",
       "  </tbody>\n",
       "</table>\n",
       "</div>"
      ],
      "text/plain": [
       "               Open          High           Low         Close     Adj Close  \\\n",
       "count   9135.000000   9135.000000   9135.000000   9135.000000   9135.000000   \n",
       "mean    6613.664178   6761.780345   6454.555634   6618.779778   6618.779778   \n",
       "std    14826.247812  15159.294440  14462.494271  14834.795912  14834.795912   \n",
       "min        0.023954      0.025993      0.019130      0.023961      0.023961   \n",
       "25%        0.515896      0.527335      0.501424      0.516445      0.516445   \n",
       "50%       74.911057     76.675430     72.618980     74.920151     74.920151   \n",
       "75%     2662.135864   2753.648071   2565.137329   2662.890015   2662.890015   \n",
       "max    73079.375000  73750.070312  71334.093750  73083.500000  73083.500000   \n",
       "\n",
       "             Volume  \n",
       "count  9.135000e+03  \n",
       "mean   1.054687e+10  \n",
       "std    1.487517e+10  \n",
       "min    1.958898e+07  \n",
       "25%    8.713607e+08  \n",
       "50%    3.260639e+09  \n",
       "75%    1.598940e+10  \n",
       "max    3.509679e+11  "
      ]
     },
     "execution_count": 8,
     "metadata": {},
     "output_type": "execute_result"
    }
   ],
   "source": [
    "maindf.describe()"
   ]
  },
  {
   "cell_type": "code",
   "execution_count": 9,
   "id": "fe489f95",
   "metadata": {},
   "outputs": [
    {
     "name": "stdout",
     "output_type": "stream",
     "text": [
      "Null Values: 0\n"
     ]
    }
   ],
   "source": [
    "#checking for null values\n",
    "print('Null Values:',maindf.isnull().values.sum())"
   ]
  },
  {
   "cell_type": "code",
   "execution_count": 10,
   "id": "ae17a5ee",
   "metadata": {},
   "outputs": [
    {
     "name": "stdout",
     "output_type": "stream",
     "text": [
      "NA values: False\n"
     ]
    }
   ],
   "source": [
    "print('NA values:',maindf.isnull().values.any())"
   ]
  },
  {
   "cell_type": "code",
   "execution_count": 11,
   "id": "c0d607ef",
   "metadata": {},
   "outputs": [
    {
     "data": {
      "text/plain": [
       "(9135, 8)"
      ]
     },
     "execution_count": 11,
     "metadata": {},
     "output_type": "execute_result"
    }
   ],
   "source": [
    "maindf.shape"
   ]
  },
  {
   "cell_type": "code",
   "execution_count": 12,
   "id": "d13dddd0",
   "metadata": {},
   "outputs": [
    {
     "name": "stdout",
     "output_type": "stream",
     "text": [
      "Starting Date 2019-08-15\n",
      "Ending Date 2024-08-14\n"
     ]
    }
   ],
   "source": [
    "sd=maindf.iloc[0][0]\n",
    "ed=maindf.iloc[-1][0]\n",
    "\n",
    "\n",
    "print('Starting Date',sd)\n",
    "print('Ending Date',ed)"
   ]
  },
  {
   "cell_type": "code",
   "execution_count": null,
   "id": "047c48a3",
   "metadata": {},
   "outputs": [],
   "source": []
  },
  {
   "cell_type": "code",
   "execution_count": null,
   "id": "b99d47d5",
   "metadata": {},
   "outputs": [],
   "source": []
  }
 ],
 "metadata": {
  "kernelspec": {
   "display_name": "Python 3 (ipykernel)",
   "language": "python",
   "name": "python3"
  },
  "language_info": {
   "codemirror_mode": {
    "name": "ipython",
    "version": 3
   },
   "file_extension": ".py",
   "mimetype": "text/x-python",
   "name": "python",
   "nbconvert_exporter": "python",
   "pygments_lexer": "ipython3",
   "version": "3.8.10"
  }
 },
 "nbformat": 4,
 "nbformat_minor": 5
}
